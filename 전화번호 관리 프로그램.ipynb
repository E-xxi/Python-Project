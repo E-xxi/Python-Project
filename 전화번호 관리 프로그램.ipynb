{
 "cells": [
  {
   "cell_type": "code",
   "execution_count": 17,
   "id": "d048d8d9-4067-4ca3-83e4-0de0efb84b0b",
   "metadata": {},
   "outputs": [],
   "source": [
    "import pickle\n",
    "\n",
    "### 전화번호 관리 프로그램 ###\n",
    "f = open(\"phone.dat\",\"rb\")\n",
    "phone_box = pickle.load(f)\n",
    "f.close()\n",
    "\n",
    "def update():\n",
    "    f= open(\"phone.dat\",\"wb\")\n",
    "    pickle.dump(phone_box,f) #f에 phone_box를 새로 저장\n",
    "    f.close()\n",
    "\n",
    "def add_numbers():\n",
    "    name = input(\"이름: \")\n",
    "    number = input(\"번호: \")\n",
    "    A = [name, number]\n",
    "    if A not in phone_box:\n",
    "        phone_box.append(A)\n",
    "        print(\"전화번호 저장 완료\")\n",
    "        update()\n",
    "\n",
    "def show_numbers():\n",
    "    print(\"\\n저장된 전화번호 목록\")\n",
    "    for i,j in phone_box:\n",
    "        print(f\"이름: {i} 전화번호: {j}\")\n",
    "    print(f\"{len(phone_box)}개의 전화번호가 저장되어 있습니다\")\n",
    "\n",
    "\n",
    "def del_numbers():\n",
    "    name = input(\"삭제할 이름: \")\n",
    "    for idx,i in enumerate(phone_box):\n",
    "        if numbers == i[1]:\n",
    "            del phone_box[idx]\n",
    "            print(f\"{name}의 번호가 삭제되었습니다.\")\n",
    "            update()\n",
    "            break"
   ]
  },
  {
   "cell_type": "code",
   "execution_count": 16,
   "id": "2ac241b2-2f34-4c23-8a7f-917608fe73d0",
   "metadata": {},
   "outputs": [
    {
     "name": "stdout",
     "output_type": "stream",
     "text": [
      "\n",
      "전화번호 관리 프로그램\n",
      "    1. 전화번호 입력\n",
      "    2. 전화번호 조회\n",
      "    3. 전화번호 삭제\n",
      "    4. 종료\n"
     ]
    },
    {
     "name": "stdin",
     "output_type": "stream",
     "text": [
      "입력...  3\n",
      "삭제할 이름:  b\n"
     ]
    },
    {
     "name": "stdout",
     "output_type": "stream",
     "text": [
      "b의 번호가 삭제되었습니다.\n",
      "\n",
      "전화번호 관리 프로그램\n",
      "    1. 전화번호 입력\n",
      "    2. 전화번호 조회\n",
      "    3. 전화번호 삭제\n",
      "    4. 종료\n"
     ]
    },
    {
     "name": "stdin",
     "output_type": "stream",
     "text": [
      "입력...  2\n"
     ]
    },
    {
     "name": "stdout",
     "output_type": "stream",
     "text": [
      "\n",
      "저장된 전화번호 목록\n",
      "이름: ghdrlfehd 전화번호: 12366554455\n",
      "1개의 전화번호가 저장되어 있습니다\n",
      "\n",
      "전화번호 관리 프로그램\n",
      "    1. 전화번호 입력\n",
      "    2. 전화번호 조회\n",
      "    3. 전화번호 삭제\n",
      "    4. 종료\n"
     ]
    },
    {
     "name": "stdin",
     "output_type": "stream",
     "text": [
      "입력...  4\n"
     ]
    }
   ],
   "source": [
    "while True:\n",
    "    print(\"\"\"\\n전화번호 관리 프로그램\n",
    "    1. 전화번호 입력\n",
    "    2. 전화번호 조회\n",
    "    3. 전화번호 삭제\n",
    "    4. 종료\"\"\")\n",
    "\n",
    "    n = int(input(\"입력... \"))\n",
    "    if n == 1:\n",
    "        add_numbers()\n",
    "    elif n == 2:\n",
    "        show_numbers()\n",
    "    elif n ==3:\n",
    "        del_numbers()\n",
    "    else:\n",
    "        break"
   ]
  },
  {
   "cell_type": "code",
   "execution_count": 10,
   "id": "9a903db3-a861-468b-b8bb-04ee260f17bf",
   "metadata": {},
   "outputs": [
    {
     "data": {
      "text/plain": [
       "[['a', '123456'], ['b', '789456'], ['ghdrlfehd', '12366554455']]"
      ]
     },
     "execution_count": 10,
     "metadata": {},
     "output_type": "execute_result"
    }
   ],
   "source": [
    "phone_box"
   ]
  },
  {
   "cell_type": "code",
   "execution_count": null,
   "id": "a379a051-3d05-4905-bd2f-89a06e17b84c",
   "metadata": {},
   "outputs": [],
   "source": []
  }
 ],
 "metadata": {
  "kernelspec": {
   "display_name": "Python 3 (ipykernel)",
   "language": "python",
   "name": "python3"
  },
  "language_info": {
   "codemirror_mode": {
    "name": "ipython",
    "version": 3
   },
   "file_extension": ".py",
   "mimetype": "text/x-python",
   "name": "python",
   "nbconvert_exporter": "python",
   "pygments_lexer": "ipython3",
   "version": "3.12.7"
  }
 },
 "nbformat": 4,
 "nbformat_minor": 5
}
