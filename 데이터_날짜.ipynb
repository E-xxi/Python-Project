{
 "cells": [
  {
   "cell_type": "code",
   "execution_count": 5,
   "id": "4b3ba2e3-66e6-449e-ac04-3644d7b8ec45",
   "metadata": {},
   "outputs": [
    {
     "data": {
      "text/plain": [
       "0   2025-02-13 13:15:00\n",
       "1   2025-03-01 10:25:30\n",
       "2   2025-04-15 18:50:15\n",
       "dtype: datetime64[ns]"
      ]
     },
     "execution_count": 5,
     "metadata": {},
     "output_type": "execute_result"
    }
   ],
   "source": [
    "#to_datetime()\n",
    "import pandas as pd\n",
    "s= pd.Series([\"2025-02-13 13:15:00\",\n",
    "              \"2025-03-01 10:25:30\",\n",
    "              \"2025-04-15 18:50:15\"])\n",
    "# format에서 각각이 뭘 의미하는지를 지정가능 \n",
    "# %H: 24시간 단위 시간 // %h\n",
    "# %M: 분 // %m 월 \n",
    "pd.to_datetime(s, format=\"%Y-%m-%d %H:%M:%S\")"
   ]
  },
  {
   "cell_type": "code",
   "execution_count": 9,
   "id": "8344ac05-9983-49ee-a08e-e6abf3dddd2f",
   "metadata": {},
   "outputs": [
    {
     "data": {
      "text/plain": [
       "0   2033-12-01\n",
       "1   1988-10-01\n",
       "2   1970-12-01\n",
       "dtype: datetime64[ns]"
      ]
     },
     "execution_count": 9,
     "metadata": {},
     "output_type": "execute_result"
    }
   ],
   "source": [
    "# Unix 타임스탬프 // 1970년도 1월 1일 오전 0시부터 센거임\n",
    "s= pd.Series([767,225,11])\n",
    "pd.to_datetime(s, unit = \"M\")"
   ]
  },
  {
   "cell_type": "code",
   "execution_count": 14,
   "id": "232d0b28-34be-4d96-ac5d-21d1d4ddddb1",
   "metadata": {},
   "outputs": [],
   "source": [
    "#to_datetime()\n",
    "import pandas as pd\n",
    "s= pd.Series([\"2025-02-13 13:15:00\",\n",
    "              \"2025-03-01 10:25:30\",\n",
    "              \"2025-04-15 18:50:15\"])\n",
    "# format에서 각각이 뭘 의미하는지를 지정가능 \n",
    "# %H: 24시간 단위 시간 // %h\n",
    "# %M: 분 // %m 월 \n",
    "s = pd.to_datetime(s, format=\"%Y-%m-%d %H:%M:%S\", \n",
    "               errors = \"coerce\") #에러가 나면 NaT 누락값으로 인식"
   ]
  },
  {
   "cell_type": "code",
   "execution_count": 16,
   "id": "c64c8e3a-c1d8-48e4-981b-6f538f517087",
   "metadata": {},
   "outputs": [
    {
     "data": {
      "text/plain": [
       "(0    2025\n",
       " 1    2025\n",
       " 2    2025\n",
       " dtype: int32,\n",
       " 0    2\n",
       " 1    3\n",
       " 2    4\n",
       " dtype: int32,\n",
       " 0    13\n",
       " 1     1\n",
       " 2    15\n",
       " dtype: int32)"
      ]
     },
     "execution_count": 16,
     "metadata": {},
     "output_type": "execute_result"
    }
   ],
   "source": [
    "s.dt.year, s.dt.month, s.dt.day"
   ]
  },
  {
   "cell_type": "code",
   "execution_count": 18,
   "id": "a7361d7d-ec4c-4472-a02e-2440a9e8ddb5",
   "metadata": {},
   "outputs": [
    {
     "data": {
      "text/plain": [
       "(0    3\n",
       " 1    5\n",
       " 2    1\n",
       " dtype: int32,\n",
       " 0    Thursday\n",
       " 1    Saturday\n",
       " 2     Tuesday\n",
       " dtype: object)"
      ]
     },
     "execution_count": 18,
     "metadata": {},
     "output_type": "execute_result"
    }
   ],
   "source": [
    "#0: 월요일\n",
    "s.dt.dayofweek, s.dt.day_name()"
   ]
  },
  {
   "cell_type": "code",
   "execution_count": 20,
   "id": "891f63b2-06e8-4b20-a49a-6d4335fbaaf1",
   "metadata": {},
   "outputs": [
    {
     "data": {
      "text/plain": [
       "0    1\n",
       "1    1\n",
       "2    2\n",
       "dtype: int32"
      ]
     },
     "execution_count": 20,
     "metadata": {},
     "output_type": "execute_result"
    }
   ],
   "source": [
    "# 월말인가?           월초인가?\n",
    "s.dt.is_month_end, s.dt.is_month_start\n",
    "# 분기 \n",
    "s.dt.quarter"
   ]
  },
  {
   "cell_type": "code",
   "execution_count": 22,
   "id": "143de0ca-0f1f-4b5e-924b-11539ec7af0c",
   "metadata": {},
   "outputs": [
    {
     "data": {
      "text/plain": [
       "0    2025-02\n",
       "1    2025-03\n",
       "2    2025-04\n",
       "dtype: period[M]"
      ]
     },
     "execution_count": 22,
     "metadata": {},
     "output_type": "execute_result"
    }
   ],
   "source": [
    "# 월단위로만 표현해라 2025-02\n",
    "s.dt.to_period(\"M\") "
   ]
  },
  {
   "cell_type": "code",
   "execution_count": null,
   "id": "ff874a13-95b8-4e67-bd51-5878bba01a50",
   "metadata": {},
   "outputs": [],
   "source": []
  }
 ],
 "metadata": {
  "kernelspec": {
   "display_name": "Python 3 (ipykernel)",
   "language": "python",
   "name": "python3"
  },
  "language_info": {
   "codemirror_mode": {
    "name": "ipython",
    "version": 3
   },
   "file_extension": ".py",
   "mimetype": "text/x-python",
   "name": "python",
   "nbconvert_exporter": "python",
   "pygments_lexer": "ipython3",
   "version": "3.12.7"
  }
 },
 "nbformat": 4,
 "nbformat_minor": 5
}
